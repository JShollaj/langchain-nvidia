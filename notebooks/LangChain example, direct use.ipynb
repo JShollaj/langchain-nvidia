{
 "cells": [
  {
   "cell_type": "code",
   "execution_count": 1,
   "id": "07ac11c2-e0ee-4942-8f0b-3fe3c70a0182",
   "metadata": {},
   "outputs": [],
   "source": [
    "import os\n",
    "os.environ[\"NVIDIA_NEMO_RERANKING_ENDPOINT\"] = \"http://localhost:1976\""
   ]
  },
  {
   "cell_type": "code",
   "execution_count": 2,
   "id": "43e80c15-d2e4-4aee-b504-3f229739be7e",
   "metadata": {},
   "outputs": [],
   "source": [
    "from pathlib import Path\n",
    "\n",
    "from langchain.text_splitter import CharacterTextSplitter\n",
    "from ranking.langchain import Reranker"
   ]
  },
  {
   "cell_type": "code",
   "execution_count": 3,
   "id": "046ed838-1f78-47da-b671-aa27117e14c2",
   "metadata": {},
   "outputs": [],
   "source": [
    "input_text = Path(\"./ma_constitution.txt\").read_text()"
   ]
  },
  {
   "cell_type": "code",
   "execution_count": 4,
   "id": "b8c321f4-3ec6-458d-8167-df0ef9938bc7",
   "metadata": {},
   "outputs": [],
   "source": [
    "text_splitter = CharacterTextSplitter(\n",
    "    separator=\" \",\n",
    "    chunk_size=1000,\n",
    "    chunk_overlap=200,\n",
    "    length_function=len,\n",
    ")\n",
    "docs = text_splitter.create_documents([input_text])"
   ]
  },
  {
   "cell_type": "code",
   "execution_count": 5,
   "id": "b8e1cb38-b7cc-4f25-813e-b4390197c137",
   "metadata": {},
   "outputs": [
    {
     "data": {
      "text/plain": [
       "Document(page_content='PREAMBLE\\n\\n The end of the institution, maintenance, and administration of\\n government, is to secure the existence of the body politic, to protect\\n it, and to furnish the individuals who compose it with the power of\\n enjoying in safety and tranquility their natural rights, and the\\n blessings of life: and whenever these great objects are not obtained,\\n the people have a right to alter the government, and to take measures\\n necessary for their safety, prosperity and happiness.\\n\\n The body politic is formed by a voluntary association of individuals:\\n it is a social compact, by which the whole people covenants with each\\n citizen, and each citizen with the whole people, that all shall be\\n governed by certain laws for the common good. It is the duty of the\\n people, therefore, in framing a constitution of government, to provide\\n for an equitable mode of making laws, as well as for an impartial\\n interpretation, and a faithful execution of them; that every man may,\\n at all times, find his security')"
      ]
     },
     "execution_count": 5,
     "metadata": {},
     "output_type": "execute_result"
    }
   ],
   "source": [
    "docs[0]"
   ]
  },
  {
   "cell_type": "code",
   "execution_count": 6,
   "id": "c8ca548b-73ed-4396-b2d1-fcd6c048fbd5",
   "metadata": {},
   "outputs": [
    {
     "data": {
      "text/plain": [
       "335"
      ]
     },
     "execution_count": 6,
     "metadata": {},
     "output_type": "execute_result"
    }
   ],
   "source": [
    "len(docs)"
   ]
  },
  {
   "cell_type": "code",
   "execution_count": 7,
   "id": "30b7029d-8935-4420-a2df-3c4f65e9804f",
   "metadata": {},
   "outputs": [],
   "source": [
    "ranker = Reranker()"
   ]
  },
  {
   "cell_type": "code",
   "execution_count": 8,
   "id": "ac6a1601-b099-4b00-84cf-486976ffaf5e",
   "metadata": {},
   "outputs": [
    {
     "data": {
      "text/plain": [
       "[Document(page_content='Articles of Amendment were adopted by\\n the General Court during the sessions of the years 1889 and 1890, and\\n were approved and ratified by the people on the 4th day of November,\\n 1890.\\n\\n The thirty-second and thirty-third Articles of Amendment were adopted\\n by the General Court during the sessions of the years 1890 and 1891,\\n and were approved and ratified by the people on the 3d day of November,\\n 1891.\\n\\n The thirty-fourth Article of Amendment was adopted by the General Court\\n during the sessions of the years 1891 and 1892, and was approved and\\n ratified by the people on the 8th day of November, 1892.\\n\\n The thirty-fifth Article of Amendment was adopted by the General Court\\n during the sessions of the years 1892 and 1893, and was approved and\\n ratified by the people on the 7th day of November, 1893.\\n\\n The thirty-sixth Article of Amendment was adopted by the General Court\\n during the sessions of the years 1893 and 1894, and was approved and\\n ratified by the people on the 6th day of', metadata={'relevance_score': 1.0}),\n",
       " Document(page_content='Article of Amendment was adopted by the\\n General Court during the sessions of 1980 and 1982, and was approved\\n and ratified by the people on the second day of November, 1982.\\n\\n The one hundred and seventeenth Article of Amendment was adopted by the\\n General Court during the sessions of 1987 and 1990, and was approved\\n and ratified by the people on the sixth day of November, 1990.\\n\\n The one hundred and eighteenth Article of Amendment was adopted by the\\n General court during the sessions of 1996 and 1998, and was approved\\n and ratified by the people on the third day of November, 1998.\\n\\n The one hundred and nineteenth and one hundred and twentieth Article of\\n Amendment were adopted by the General court during the sessions of 1998\\n and 2000, and were approved and ratified by the people on the seventh\\n day of November, 2000.\\n\\n The one hundred and twenty-first Article of Amendment was adopted by\\n the General court during the sessions of 2019 and 2021, and was\\n approved and ratified by the', metadata={'relevance_score': 0.9991162419319153}),\n",
       " Document(page_content='approved\\n and ratified by the people on the seventh day of November, 1978.\\n\\n The one hundred and eleventh and one hundred and twelfth Articles of\\n Amendment were adopted by the General Court during the sessions of 1975\\n and 1977, and were approved and ratified by the people on the seventh\\n day of November, 1978.\\n\\n The one hundred and thirteenth Article of Amendment was adopted by the\\n General Court during the sessions of 1976 and 1977, and was approved\\n and ratified by the people on the seventh day of November, 1978.\\n\\n The one hundred and fourteenth and one hundred and fifteenth Articles\\n of Amendment were adopted by the General Court during the sessions of\\n 1977 and 1980, and were approved and ratified by the people on the\\n fourth day of November, 1980.\\n\\n The one hundred and sixteenth Article of Amendment was adopted by the\\n General Court during the sessions of 1980 and 1982, and was approved\\n and ratified by the people on the second day of November, 1982.\\n\\n The one hundred and', metadata={'relevance_score': 0.9854176044464111})]"
      ]
     },
     "execution_count": 8,
     "metadata": {},
     "output_type": "execute_result"
    }
   ],
   "source": [
    "ranker.compress_documents(documents=docs, query=\"what are human rights?\")"
   ]
  },
  {
   "cell_type": "code",
   "execution_count": null,
   "id": "5d73dcab-2a95-46f9-a07d-7ac45a8c5822",
   "metadata": {},
   "outputs": [],
   "source": []
  }
 ],
 "metadata": {
  "kernelspec": {
   "display_name": "Python 3 (ipykernel)",
   "language": "python",
   "name": "python3"
  },
  "language_info": {
   "codemirror_mode": {
    "name": "ipython",
    "version": 3
   },
   "file_extension": ".py",
   "mimetype": "text/x-python",
   "name": "python",
   "nbconvert_exporter": "python",
   "pygments_lexer": "ipython3",
   "version": "3.11.6"
  }
 },
 "nbformat": 4,
 "nbformat_minor": 5
}
